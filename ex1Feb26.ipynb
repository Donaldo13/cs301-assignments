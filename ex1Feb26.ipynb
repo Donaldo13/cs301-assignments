{
 "cells": [
  {
   "cell_type": "code",
   "execution_count": 5,
   "id": "4ee693e7",
   "metadata": {},
   "outputs": [
    {
     "name": "stdout",
     "output_type": "stream",
     "text": [
      "[6.214245   2.42542344]\n"
     ]
    }
   ],
   "source": [
    "from scipy import stats\n",
    "import numpy as np\n",
    "from scipy.optimize import minimize\n",
    "\n",
    "data = np.array([4, 5, 7, 8, 8, 9, 10, 5, 2, 3, 5, 4, 8, 9])\n",
    "\n",
    "\n",
    "def gaussian(ps):\n",
    "    mean = ps[0]   \n",
    "    sd = ps[1]\n",
    "\n",
    "    #negative log likelihood\n",
    "    nll = -np.sum(stats.norm.logpdf(sample_data, loc=mean, scale=sd))\n",
    "\n",
    "    return nll\n",
    "\n",
    "\n",
    "initParams = [1, 1]\n",
    "\n",
    "results = minimize(gaussian, initParams, method='Nelder-Mead')\n",
    "print(results.x)"
   ]
  },
  {
   "cell_type": "code",
   "execution_count": null,
   "id": "a5395881",
   "metadata": {},
   "outputs": [],
   "source": []
  },
  {
   "cell_type": "code",
   "execution_count": null,
   "id": "17e2b78b",
   "metadata": {},
   "outputs": [],
   "source": []
  },
  {
   "cell_type": "code",
   "execution_count": null,
   "id": "e161c9d6",
   "metadata": {},
   "outputs": [],
   "source": []
  }
 ],
 "metadata": {
  "kernelspec": {
   "display_name": "Python 3 (ipykernel)",
   "language": "python",
   "name": "python3"
  },
  "language_info": {
   "codemirror_mode": {
    "name": "ipython",
    "version": 3
   },
   "file_extension": ".py",
   "mimetype": "text/x-python",
   "name": "python",
   "nbconvert_exporter": "python",
   "pygments_lexer": "ipython3",
   "version": "3.9.13"
  }
 },
 "nbformat": 4,
 "nbformat_minor": 5
}

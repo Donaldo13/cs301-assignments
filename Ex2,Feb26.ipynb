{
 "cells": [
  {
   "cell_type": "code",
   "execution_count": 4,
   "id": "a0c07b3f",
   "metadata": {},
   "outputs": [
    {
     "name": "stdout",
     "output_type": "stream",
     "text": [
      "0.9720324681885764 -0.0915723644677935\n"
     ]
    }
   ],
   "source": [
    "import numpy as np\n",
    "\n",
    "X = np.array([8, 16, 22, 33, 50, 51])\n",
    "Y = np.array([5, 20, 14, 32, 42, 58])\n",
    "\n",
    "m = 0\n",
    "c = 0\n",
    "\n",
    "learnRate = 0.0001 \n",
    "times = 1000  \n",
    "\n",
    "n = float(len(X)) \n",
    "\n",
    "\n",
    "for i in range(times): \n",
    "    Y_pred = m*X + c  \n",
    "    cost = (1/n) * sum([val**2 for val in (Y-Y_pred)])\n",
    "    D_m = (-2/n) * sum(X * (Y - Y_pred))  \n",
    "    D_c = (-2/n) * sum(Y - Y_pred)  \n",
    "    m = m - learnRate * D_m  \n",
    "    c = c - learnRate * D_c  \n",
    "\n",
    "    \n",
    "print (m, c)"
   ]
  },
  {
   "cell_type": "code",
   "execution_count": null,
   "id": "85fc4641",
   "metadata": {},
   "outputs": [],
   "source": []
  }
 ],
 "metadata": {
  "kernelspec": {
   "display_name": "Python 3 (ipykernel)",
   "language": "python",
   "name": "python3"
  },
  "language_info": {
   "codemirror_mode": {
    "name": "ipython",
    "version": 3
   },
   "file_extension": ".py",
   "mimetype": "text/x-python",
   "name": "python",
   "nbconvert_exporter": "python",
   "pygments_lexer": "ipython3",
   "version": "3.9.13"
  }
 },
 "nbformat": 4,
 "nbformat_minor": 5
}
